{
 "cells": [
  {
   "cell_type": "markdown",
   "metadata": {
    "colab_type": "text",
    "id": "view-in-github"
   },
   "source": [
    "<a href=\"https://colab.research.google.com/github/ellahad/Phase-2-group-project/blob/main/ANALYSIS%20ON%20EFFECT%20OF%20HOUSE%20FEATURES.ipynb\" target=\"_parent\"><img src=\"https://colab.research.google.com/assets/colab-badge.svg\" alt=\"Open In Colab\"/></a>"
   ]
  },
  {
   "cell_type": "markdown",
   "metadata": {
    "id": "fZ61nzs-ukC1"
   },
   "source": [
    "# ANALYSIS OF KEY INDICATORS OF HOUSE PRICES\n"
   ]
  },
  {
   "cell_type": "markdown",
   "metadata": {
    "id": "j7CL4veVukC5"
   },
   "source": [
    "## <small> 1. Research objectives</small>\n",
    "\n"
   ]
  },
  {
   "cell_type": "markdown",
   "metadata": {
    "id": "BNOdXmd4ukC6"
   },
   "source": [
    "\n",
    "\n",
    "### <small>a) Main Objectives</small>"
   ]
  },
  {
   "cell_type": "markdown",
   "metadata": {
    "id": "X_3sC72OukC6"
   },
   "source": [
    "To determine the influence of house features on home pricing"
   ]
  },
  {
   "cell_type": "markdown",
   "metadata": {
    "id": "N0FbWPoOukC8"
   },
   "source": [
    "### <small>c) Specific objectives</small>"
   ]
  },
  {
   "cell_type": "markdown",
   "metadata": {
    "id": "loA5glMvukC8"
   },
   "source": [
    "To assess the influence of number of floors on house pricing\n",
    "\n",
    "To evaluate the influence of number of bedrooms on house pricing\n",
    "\n",
    "To assess the influence of the views on house pricing\n",
    "\n",
    "\n",
    "---\n",
    "\n"
   ]
  },
  {
   "cell_type": "markdown",
   "metadata": {
    "id": "i18fCq_fukC7"
   },
   "source": [
    "### <small> b) Data Understanding</small>"
   ]
  },
  {
   "cell_type": "markdown",
   "metadata": {
    "id": "GPvLZ0hRukC7"
   },
   "source": [
    "The analysis used data from Kings County which are in the folder Research Data and in csv\n",
    "file format.We used the file 'kc_house_data.csv' for the analysis.\n"
   ]
  },
  {
   "cell_type": "markdown",
   "metadata": {
    "id": "G_dsmKAMukC8"
   },
   "source": [
    "### <small> Loading the Dataset</small>"
   ]
  },
  {
   "cell_type": "code",
   "execution_count": 1,
   "metadata": {
    "colab": {
     "base_uri": "https://localhost:8080/",
     "height": 407
    },
    "id": "H1cHzVQnQC3I",
    "outputId": "ef121551-1cec-48df-c39e-2b879d24d5c9"
   },
   "outputs": [
    {
     "data": {
      "text/html": [
       "<div>\n",
       "<style scoped>\n",
       "    .dataframe tbody tr th:only-of-type {\n",
       "        vertical-align: middle;\n",
       "    }\n",
       "\n",
       "    .dataframe tbody tr th {\n",
       "        vertical-align: top;\n",
       "    }\n",
       "\n",
       "    .dataframe thead th {\n",
       "        text-align: right;\n",
       "    }\n",
       "</style>\n",
       "<table border=\"1\" class=\"dataframe\">\n",
       "  <thead>\n",
       "    <tr style=\"text-align: right;\">\n",
       "      <th></th>\n",
       "      <th>id</th>\n",
       "      <th>date</th>\n",
       "      <th>price</th>\n",
       "      <th>bedrooms</th>\n",
       "      <th>bathrooms</th>\n",
       "      <th>sqft_living</th>\n",
       "      <th>sqft_lot</th>\n",
       "      <th>floors</th>\n",
       "      <th>waterfront</th>\n",
       "      <th>view</th>\n",
       "      <th>...</th>\n",
       "      <th>grade</th>\n",
       "      <th>sqft_above</th>\n",
       "      <th>sqft_basement</th>\n",
       "      <th>yr_built</th>\n",
       "      <th>yr_renovated</th>\n",
       "      <th>zipcode</th>\n",
       "      <th>lat</th>\n",
       "      <th>long</th>\n",
       "      <th>sqft_living15</th>\n",
       "      <th>sqft_lot15</th>\n",
       "    </tr>\n",
       "  </thead>\n",
       "  <tbody>\n",
       "    <tr>\n",
       "      <th>0</th>\n",
       "      <td>7129300520</td>\n",
       "      <td>10/13/2014</td>\n",
       "      <td>221900.0</td>\n",
       "      <td>3</td>\n",
       "      <td>1.00</td>\n",
       "      <td>1180</td>\n",
       "      <td>5650</td>\n",
       "      <td>1.0</td>\n",
       "      <td>NaN</td>\n",
       "      <td>NONE</td>\n",
       "      <td>...</td>\n",
       "      <td>7 Average</td>\n",
       "      <td>1180</td>\n",
       "      <td>0.0</td>\n",
       "      <td>1955</td>\n",
       "      <td>0.0</td>\n",
       "      <td>98178</td>\n",
       "      <td>47.5112</td>\n",
       "      <td>-122.257</td>\n",
       "      <td>1340</td>\n",
       "      <td>5650.0</td>\n",
       "    </tr>\n",
       "    <tr>\n",
       "      <th>1</th>\n",
       "      <td>6414100192</td>\n",
       "      <td>12/9/2014</td>\n",
       "      <td>538000.0</td>\n",
       "      <td>3</td>\n",
       "      <td>2.25</td>\n",
       "      <td>2570</td>\n",
       "      <td>7242</td>\n",
       "      <td>2.0</td>\n",
       "      <td>NO</td>\n",
       "      <td>NONE</td>\n",
       "      <td>...</td>\n",
       "      <td>7 Average</td>\n",
       "      <td>2170</td>\n",
       "      <td>400.0</td>\n",
       "      <td>1951</td>\n",
       "      <td>1991.0</td>\n",
       "      <td>98125</td>\n",
       "      <td>47.7210</td>\n",
       "      <td>-122.319</td>\n",
       "      <td>1690</td>\n",
       "      <td>7639.0</td>\n",
       "    </tr>\n",
       "    <tr>\n",
       "      <th>2</th>\n",
       "      <td>5631500400</td>\n",
       "      <td>2/25/2015</td>\n",
       "      <td>180000.0</td>\n",
       "      <td>2</td>\n",
       "      <td>1.00</td>\n",
       "      <td>770</td>\n",
       "      <td>10000</td>\n",
       "      <td>1.0</td>\n",
       "      <td>NO</td>\n",
       "      <td>NONE</td>\n",
       "      <td>...</td>\n",
       "      <td>6 Low Average</td>\n",
       "      <td>770</td>\n",
       "      <td>0.0</td>\n",
       "      <td>1933</td>\n",
       "      <td>NaN</td>\n",
       "      <td>98028</td>\n",
       "      <td>47.7379</td>\n",
       "      <td>-122.233</td>\n",
       "      <td>2720</td>\n",
       "      <td>8062.0</td>\n",
       "    </tr>\n",
       "    <tr>\n",
       "      <th>3</th>\n",
       "      <td>2487200875</td>\n",
       "      <td>12/9/2014</td>\n",
       "      <td>604000.0</td>\n",
       "      <td>4</td>\n",
       "      <td>3.00</td>\n",
       "      <td>1960</td>\n",
       "      <td>5000</td>\n",
       "      <td>1.0</td>\n",
       "      <td>NO</td>\n",
       "      <td>NONE</td>\n",
       "      <td>...</td>\n",
       "      <td>7 Average</td>\n",
       "      <td>1050</td>\n",
       "      <td>910.0</td>\n",
       "      <td>1965</td>\n",
       "      <td>0.0</td>\n",
       "      <td>98136</td>\n",
       "      <td>47.5208</td>\n",
       "      <td>-122.393</td>\n",
       "      <td>1360</td>\n",
       "      <td>5000.0</td>\n",
       "    </tr>\n",
       "    <tr>\n",
       "      <th>4</th>\n",
       "      <td>1954400510</td>\n",
       "      <td>2/18/2015</td>\n",
       "      <td>510000.0</td>\n",
       "      <td>3</td>\n",
       "      <td>2.00</td>\n",
       "      <td>1680</td>\n",
       "      <td>8080</td>\n",
       "      <td>1.0</td>\n",
       "      <td>NO</td>\n",
       "      <td>NONE</td>\n",
       "      <td>...</td>\n",
       "      <td>8 Good</td>\n",
       "      <td>1680</td>\n",
       "      <td>0.0</td>\n",
       "      <td>1987</td>\n",
       "      <td>0.0</td>\n",
       "      <td>98074</td>\n",
       "      <td>47.6168</td>\n",
       "      <td>-122.045</td>\n",
       "      <td>1800</td>\n",
       "      <td>7503.0</td>\n",
       "    </tr>\n",
       "  </tbody>\n",
       "</table>\n",
       "<p>5 rows × 21 columns</p>\n",
       "</div>"
      ],
      "text/plain": [
       "           id        date     price  bedrooms  bathrooms  sqft_living  \\\n",
       "0  7129300520  10/13/2014  221900.0         3       1.00         1180   \n",
       "1  6414100192   12/9/2014  538000.0         3       2.25         2570   \n",
       "2  5631500400   2/25/2015  180000.0         2       1.00          770   \n",
       "3  2487200875   12/9/2014  604000.0         4       3.00         1960   \n",
       "4  1954400510   2/18/2015  510000.0         3       2.00         1680   \n",
       "\n",
       "   sqft_lot  floors waterfront  view  ...          grade sqft_above  \\\n",
       "0      5650     1.0        NaN  NONE  ...      7 Average       1180   \n",
       "1      7242     2.0         NO  NONE  ...      7 Average       2170   \n",
       "2     10000     1.0         NO  NONE  ...  6 Low Average        770   \n",
       "3      5000     1.0         NO  NONE  ...      7 Average       1050   \n",
       "4      8080     1.0         NO  NONE  ...         8 Good       1680   \n",
       "\n",
       "   sqft_basement yr_built  yr_renovated  zipcode      lat     long  \\\n",
       "0            0.0     1955           0.0    98178  47.5112 -122.257   \n",
       "1          400.0     1951        1991.0    98125  47.7210 -122.319   \n",
       "2            0.0     1933           NaN    98028  47.7379 -122.233   \n",
       "3          910.0     1965           0.0    98136  47.5208 -122.393   \n",
       "4            0.0     1987           0.0    98074  47.6168 -122.045   \n",
       "\n",
       "   sqft_living15  sqft_lot15  \n",
       "0           1340      5650.0  \n",
       "1           1690      7639.0  \n",
       "2           2720      8062.0  \n",
       "3           1360      5000.0  \n",
       "4           1800      7503.0  \n",
       "\n",
       "[5 rows x 21 columns]"
      ]
     },
     "execution_count": 1,
     "metadata": {},
     "output_type": "execute_result"
    }
   ],
   "source": [
    "# loading the data set and displaying using pandas\n",
    "import pandas as pd\n",
    "data=pd.read_csv(\"Research Data/kc_house_data.csv\")\n",
    "data.head()"
   ]
  },
  {
   "cell_type": "code",
   "execution_count": 2,
   "metadata": {
    "id": "hP4-IGXOQHhI"
   },
   "outputs": [
    {
     "data": {
      "text/html": [
       "<div>\n",
       "<style scoped>\n",
       "    .dataframe tbody tr th:only-of-type {\n",
       "        vertical-align: middle;\n",
       "    }\n",
       "\n",
       "    .dataframe tbody tr th {\n",
       "        vertical-align: top;\n",
       "    }\n",
       "\n",
       "    .dataframe thead th {\n",
       "        text-align: right;\n",
       "    }\n",
       "</style>\n",
       "<table border=\"1\" class=\"dataframe\">\n",
       "  <thead>\n",
       "    <tr style=\"text-align: right;\">\n",
       "      <th></th>\n",
       "      <th>id</th>\n",
       "      <th>date</th>\n",
       "      <th>price</th>\n",
       "      <th>bedrooms</th>\n",
       "      <th>bathrooms</th>\n",
       "      <th>sqft_living</th>\n",
       "      <th>sqft_lot</th>\n",
       "      <th>floors</th>\n",
       "      <th>waterfront</th>\n",
       "      <th>view</th>\n",
       "      <th>...</th>\n",
       "      <th>grade</th>\n",
       "      <th>sqft_above</th>\n",
       "      <th>sqft_basement</th>\n",
       "      <th>yr_built</th>\n",
       "      <th>yr_renovated</th>\n",
       "      <th>zipcode</th>\n",
       "      <th>lat</th>\n",
       "      <th>long</th>\n",
       "      <th>sqft_living15</th>\n",
       "      <th>sqft_lot15</th>\n",
       "    </tr>\n",
       "  </thead>\n",
       "  <tbody>\n",
       "    <tr>\n",
       "      <th>8035</th>\n",
       "      <td>7576700131</td>\n",
       "      <td>7/14/2014</td>\n",
       "      <td>850000.0</td>\n",
       "      <td>3</td>\n",
       "      <td>2.25</td>\n",
       "      <td>2220</td>\n",
       "      <td>3707</td>\n",
       "      <td>2.0</td>\n",
       "      <td>NO</td>\n",
       "      <td>NONE</td>\n",
       "      <td>...</td>\n",
       "      <td>8 Good</td>\n",
       "      <td>1620</td>\n",
       "      <td>600.0</td>\n",
       "      <td>1919</td>\n",
       "      <td>0.0</td>\n",
       "      <td>98122</td>\n",
       "      <td>47.6170</td>\n",
       "      <td>-122.286</td>\n",
       "      <td>2030</td>\n",
       "      <td>4850.0</td>\n",
       "    </tr>\n",
       "    <tr>\n",
       "      <th>8036</th>\n",
       "      <td>4027701265</td>\n",
       "      <td>5/1/2015</td>\n",
       "      <td>480000.0</td>\n",
       "      <td>3</td>\n",
       "      <td>1.75</td>\n",
       "      <td>2920</td>\n",
       "      <td>21375</td>\n",
       "      <td>1.0</td>\n",
       "      <td>NO</td>\n",
       "      <td>NONE</td>\n",
       "      <td>...</td>\n",
       "      <td>8 Good</td>\n",
       "      <td>1850</td>\n",
       "      <td>1070.0</td>\n",
       "      <td>1961</td>\n",
       "      <td>NaN</td>\n",
       "      <td>98028</td>\n",
       "      <td>47.7666</td>\n",
       "      <td>-122.265</td>\n",
       "      <td>1540</td>\n",
       "      <td>8482.0</td>\n",
       "    </tr>\n",
       "    <tr>\n",
       "      <th>8037</th>\n",
       "      <td>3423059177</td>\n",
       "      <td>11/26/2014</td>\n",
       "      <td>420000.0</td>\n",
       "      <td>5</td>\n",
       "      <td>2.75</td>\n",
       "      <td>2540</td>\n",
       "      <td>27007</td>\n",
       "      <td>1.0</td>\n",
       "      <td>NO</td>\n",
       "      <td>NONE</td>\n",
       "      <td>...</td>\n",
       "      <td>8 Good</td>\n",
       "      <td>1520</td>\n",
       "      <td>1020.0</td>\n",
       "      <td>1980</td>\n",
       "      <td>NaN</td>\n",
       "      <td>98058</td>\n",
       "      <td>47.4326</td>\n",
       "      <td>-122.155</td>\n",
       "      <td>1800</td>\n",
       "      <td>26572.0</td>\n",
       "    </tr>\n",
       "    <tr>\n",
       "      <th>8038</th>\n",
       "      <td>3876312840</td>\n",
       "      <td>9/12/2014</td>\n",
       "      <td>408000.0</td>\n",
       "      <td>3</td>\n",
       "      <td>1.75</td>\n",
       "      <td>1970</td>\n",
       "      <td>7100</td>\n",
       "      <td>1.0</td>\n",
       "      <td>NO</td>\n",
       "      <td>NONE</td>\n",
       "      <td>...</td>\n",
       "      <td>7 Average</td>\n",
       "      <td>1590</td>\n",
       "      <td>?</td>\n",
       "      <td>1976</td>\n",
       "      <td>0.0</td>\n",
       "      <td>98072</td>\n",
       "      <td>47.7353</td>\n",
       "      <td>-122.172</td>\n",
       "      <td>1790</td>\n",
       "      <td>7455.0</td>\n",
       "    </tr>\n",
       "    <tr>\n",
       "      <th>8039</th>\n",
       "      <td>6928600330</td>\n",
       "      <td>8/20/2014</td>\n",
       "      <td>278000.0</td>\n",
       "      <td>5</td>\n",
       "      <td>1.75</td>\n",
       "      <td>2170</td>\n",
       "      <td>9752</td>\n",
       "      <td>1.0</td>\n",
       "      <td>NaN</td>\n",
       "      <td>NONE</td>\n",
       "      <td>...</td>\n",
       "      <td>7 Average</td>\n",
       "      <td>1100</td>\n",
       "      <td>?</td>\n",
       "      <td>1962</td>\n",
       "      <td>0.0</td>\n",
       "      <td>98003</td>\n",
       "      <td>47.3355</td>\n",
       "      <td>-122.331</td>\n",
       "      <td>181</td>\n",
       "      <td>NaN</td>\n",
       "    </tr>\n",
       "  </tbody>\n",
       "</table>\n",
       "<p>5 rows × 21 columns</p>\n",
       "</div>"
      ],
      "text/plain": [
       "              id        date     price  bedrooms  bathrooms  sqft_living  \\\n",
       "8035  7576700131   7/14/2014  850000.0         3       2.25         2220   \n",
       "8036  4027701265    5/1/2015  480000.0         3       1.75         2920   \n",
       "8037  3423059177  11/26/2014  420000.0         5       2.75         2540   \n",
       "8038  3876312840   9/12/2014  408000.0         3       1.75         1970   \n",
       "8039  6928600330   8/20/2014  278000.0         5       1.75         2170   \n",
       "\n",
       "      sqft_lot  floors waterfront  view  ...      grade sqft_above  \\\n",
       "8035      3707     2.0         NO  NONE  ...     8 Good       1620   \n",
       "8036     21375     1.0         NO  NONE  ...     8 Good       1850   \n",
       "8037     27007     1.0         NO  NONE  ...     8 Good       1520   \n",
       "8038      7100     1.0         NO  NONE  ...  7 Average       1590   \n",
       "8039      9752     1.0        NaN  NONE  ...  7 Average       1100   \n",
       "\n",
       "      sqft_basement yr_built  yr_renovated  zipcode      lat     long  \\\n",
       "8035          600.0     1919           0.0    98122  47.6170 -122.286   \n",
       "8036         1070.0     1961           NaN    98028  47.7666 -122.265   \n",
       "8037         1020.0     1980           NaN    98058  47.4326 -122.155   \n",
       "8038              ?     1976           0.0    98072  47.7353 -122.172   \n",
       "8039              ?     1962           0.0    98003  47.3355 -122.331   \n",
       "\n",
       "      sqft_living15  sqft_lot15  \n",
       "8035           2030      4850.0  \n",
       "8036           1540      8482.0  \n",
       "8037           1800     26572.0  \n",
       "8038           1790      7455.0  \n",
       "8039            181         NaN  \n",
       "\n",
       "[5 rows x 21 columns]"
      ]
     },
     "execution_count": 2,
     "metadata": {},
     "output_type": "execute_result"
    }
   ],
   "source": [
    "data.tail()"
   ]
  },
  {
   "cell_type": "code",
   "execution_count": 3,
   "metadata": {
    "id": "kyaA9AlTQReR"
   },
   "outputs": [
    {
     "name": "stdout",
     "output_type": "stream",
     "text": [
      "<class 'pandas.core.frame.DataFrame'>\n",
      "RangeIndex: 8040 entries, 0 to 8039\n",
      "Data columns (total 21 columns):\n",
      " #   Column         Non-Null Count  Dtype  \n",
      "---  ------         --------------  -----  \n",
      " 0   id             8040 non-null   int64  \n",
      " 1   date           8040 non-null   object \n",
      " 2   price          8040 non-null   float64\n",
      " 3   bedrooms       8040 non-null   int64  \n",
      " 4   bathrooms      8040 non-null   float64\n",
      " 5   sqft_living    8040 non-null   int64  \n",
      " 6   sqft_lot       8040 non-null   int64  \n",
      " 7   floors         8040 non-null   float64\n",
      " 8   waterfront     7105 non-null   object \n",
      " 9   view           8012 non-null   object \n",
      " 10  condition      8040 non-null   object \n",
      " 11  grade          8040 non-null   object \n",
      " 12  sqft_above     8040 non-null   int64  \n",
      " 13  sqft_basement  8040 non-null   object \n",
      " 14  yr_built       8040 non-null   int64  \n",
      " 15  yr_renovated   6626 non-null   float64\n",
      " 16  zipcode        8040 non-null   int64  \n",
      " 17  lat            8040 non-null   float64\n",
      " 18  long           8040 non-null   float64\n",
      " 19  sqft_living15  8040 non-null   int64  \n",
      " 20  sqft_lot15     8039 non-null   float64\n",
      "dtypes: float64(7), int64(8), object(6)\n",
      "memory usage: 1.3+ MB\n"
     ]
    }
   ],
   "source": [
    "# checking data summary\n",
    "data.info()"
   ]
  },
  {
   "cell_type": "code",
   "execution_count": 4,
   "metadata": {
    "id": "JjFNihhkQUzA"
   },
   "outputs": [
    {
     "data": {
      "text/plain": [
       "Index(['id', 'date', 'price', 'bedrooms', 'bathrooms', 'sqft_living',\n",
       "       'sqft_lot', 'floors', 'waterfront', 'view', 'condition', 'grade',\n",
       "       'sqft_above', 'sqft_basement', 'yr_built', 'yr_renovated', 'zipcode',\n",
       "       'lat', 'long', 'sqft_living15', 'sqft_lot15'],\n",
       "      dtype='object')"
      ]
     },
     "execution_count": 4,
     "metadata": {},
     "output_type": "execute_result"
    }
   ],
   "source": [
    "data.columns\n"
   ]
  },
  {
   "cell_type": "markdown",
   "metadata": {
    "id": "8wkydjcFQWfs"
   },
   "source": [
    "**Data Cleaning**"
   ]
  },
  {
   "cell_type": "code",
   "execution_count": 5,
   "metadata": {
    "id": "R3YbnsmBQg6r"
   },
   "outputs": [],
   "source": [
    "# checking null values\n",
    "null=data.isna().sum()"
   ]
  },
  {
   "cell_type": "code",
   "execution_count": 6,
   "metadata": {
    "id": "WYxbq98LQqTf"
   },
   "outputs": [
    {
     "data": {
      "text/plain": [
       "id                0.000000\n",
       "date              0.000000\n",
       "price             0.000000\n",
       "bedrooms          0.000000\n",
       "bathrooms         0.000000\n",
       "sqft_living       0.000000\n",
       "sqft_lot          0.000000\n",
       "floors            0.000000\n",
       "waterfront       11.629353\n",
       "view              0.348259\n",
       "condition         0.000000\n",
       "grade             0.000000\n",
       "sqft_above        0.000000\n",
       "sqft_basement     0.000000\n",
       "yr_built          0.000000\n",
       "yr_renovated     17.587065\n",
       "zipcode           0.000000\n",
       "lat               0.000000\n",
       "long              0.000000\n",
       "sqft_living15     0.000000\n",
       "sqft_lot15        0.012438\n",
       "dtype: float64"
      ]
     },
     "execution_count": 6,
     "metadata": {},
     "output_type": "execute_result"
    }
   ],
   "source": [
    "# percentage of missing data\n",
    "percentage_missing=null*100/len(data)\n",
    "percentage_missing\n"
   ]
  },
  {
   "cell_type": "markdown",
   "metadata": {
    "id": "HXeilRVrQtY5"
   },
   "source": [
    "From the results above one of the variables for our analysis 'view' has some missing data of\n",
    "0.291707%. We will proceed and first clean that.\n"
   ]
  },
  {
   "cell_type": "code",
   "execution_count": 7,
   "metadata": {
    "id": "i0C-3e6qQvp8"
   },
   "outputs": [
    {
     "data": {
      "text/plain": [
       "array(['NONE', nan, 'GOOD', 'EXCELLENT', 'AVERAGE', 'FAIR'], dtype=object)"
      ]
     },
     "execution_count": 7,
     "metadata": {},
     "output_type": "execute_result"
    }
   ],
   "source": [
    "data[\"view\"].unique()\n"
   ]
  },
  {
   "cell_type": "code",
   "execution_count": 8,
   "metadata": {
    "id": "ijLIHkUEQx5a"
   },
   "outputs": [
    {
     "data": {
      "text/plain": [
       "0"
      ]
     },
     "execution_count": 8,
     "metadata": {},
     "output_type": "execute_result"
    }
   ],
   "source": [
    "# dealing with missing data on 'view' column\n",
    "# drop the null values for 'view' since it is a small percentage\n",
    "data.dropna(axis=0, subset=['view'], inplace=True)\n",
    "data[\"view\"].isnull().sum()\n"
   ]
  },
  {
   "cell_type": "code",
   "execution_count": 9,
   "metadata": {
    "id": "kZ_kVGMrQ3In"
   },
   "outputs": [
    {
     "data": {
      "text/plain": [
       "0"
      ]
     },
     "execution_count": 9,
     "metadata": {},
     "output_type": "execute_result"
    }
   ],
   "source": [
    "# replace null values in column 'waterfront' with place holder 'unknown'\n",
    "data['waterfront'].fillna('Unknown', inplace=True)\n",
    "data[\"waterfront\"].isnull().sum()"
   ]
  },
  {
   "cell_type": "code",
   "execution_count": 10,
   "metadata": {
    "id": "IyV0NaE1Q8Ol"
   },
   "outputs": [
    {
     "data": {
      "text/plain": [
       "array([   0., 1991.,   nan, 2002., 2010., 1992., 2013., 1994., 1978.,\n",
       "       2005., 2003., 1984., 1954., 2014., 2011., 1983., 1945., 1990.,\n",
       "       1988., 1977., 1981., 1995., 2000., 1999., 1998., 1970., 1989.,\n",
       "       2004., 1986., 2007., 1987., 2006., 1985., 2001., 1980., 1971.,\n",
       "       1979., 1997., 1950., 1969., 1948., 2009., 2015., 1974., 2008.,\n",
       "       1968., 2012., 1963., 1951., 1962., 1953., 1993., 1996., 1955.,\n",
       "       1982., 1956., 1940., 1976., 1946., 1975.])"
      ]
     },
     "execution_count": 10,
     "metadata": {},
     "output_type": "execute_result"
    }
   ],
   "source": [
    "data[\"yr_renovated\"].unique()\n"
   ]
  },
  {
   "cell_type": "code",
   "execution_count": 11,
   "metadata": {
    "id": "vHxOMTQuQ_K8"
   },
   "outputs": [
    {
     "data": {
      "text/plain": [
       "0"
      ]
     },
     "execution_count": 11,
     "metadata": {},
     "output_type": "execute_result"
    }
   ],
   "source": [
    "# replace null values in column with place holder'0'\n",
    "data['yr_renovated'].fillna('0', inplace=True)\n",
    "data[\"yr_renovated\"].isnull().sum()\n"
   ]
  },
  {
   "cell_type": "code",
   "execution_count": 12,
   "metadata": {
    "id": "4id9G5JMRBqi"
   },
   "outputs": [
    {
     "data": {
      "text/plain": [
       "id               0\n",
       "date             0\n",
       "price            0\n",
       "bedrooms         0\n",
       "bathrooms        0\n",
       "sqft_living      0\n",
       "sqft_lot         0\n",
       "floors           0\n",
       "waterfront       0\n",
       "view             0\n",
       "condition        0\n",
       "grade            0\n",
       "sqft_above       0\n",
       "sqft_basement    0\n",
       "yr_built         0\n",
       "yr_renovated     0\n",
       "zipcode          0\n",
       "lat              0\n",
       "long             0\n",
       "sqft_living15    0\n",
       "sqft_lot15       1\n",
       "dtype: int64"
      ]
     },
     "execution_count": 12,
     "metadata": {},
     "output_type": "execute_result"
    }
   ],
   "source": [
    "# checking if all missing data have been cleaned\n",
    "data.isnull().sum()"
   ]
  },
  {
   "cell_type": "markdown",
   "metadata": {
    "id": "7tqBRpmkRFVD"
   },
   "source": [
    "We see that all the measing values have been cleaned"
   ]
  },
  {
   "cell_type": "markdown",
   "metadata": {
    "id": "drEVp53iRITe"
   },
   "source": [
    "## Exploratory Data Analysis"
   ]
  },
  {
   "cell_type": "code",
   "execution_count": 14,
   "metadata": {
    "id": "peV7TyMpRgAT"
   },
   "outputs": [
    {
     "data": {
      "text/plain": [
       "(8012, 21)"
      ]
     },
     "execution_count": 14,
     "metadata": {},
     "output_type": "execute_result"
    }
   ],
   "source": [
    "data.shape"
   ]
  },
  {
   "cell_type": "code",
   "execution_count": 15,
   "metadata": {
    "id": "bJ408dxDRpMC"
   },
   "outputs": [
    {
     "data": {
      "text/plain": [
       "id                 int64\n",
       "date              object\n",
       "price            float64\n",
       "bedrooms           int64\n",
       "bathrooms        float64\n",
       "sqft_living        int64\n",
       "sqft_lot           int64\n",
       "floors           float64\n",
       "waterfront        object\n",
       "view              object\n",
       "condition         object\n",
       "grade             object\n",
       "sqft_above         int64\n",
       "sqft_basement     object\n",
       "yr_built           int64\n",
       "yr_renovated      object\n",
       "zipcode            int64\n",
       "lat              float64\n",
       "long             float64\n",
       "sqft_living15      int64\n",
       "sqft_lot15       float64\n",
       "dtype: object"
      ]
     },
     "execution_count": 15,
     "metadata": {},
     "output_type": "execute_result"
    }
   ],
   "source": [
    "data.dtypes"
   ]
  },
  {
   "cell_type": "code",
   "execution_count": 16,
   "metadata": {
    "id": "l2beAzklRwBa"
   },
   "outputs": [
    {
     "data": {
      "text/html": [
       "<div>\n",
       "<style scoped>\n",
       "    .dataframe tbody tr th:only-of-type {\n",
       "        vertical-align: middle;\n",
       "    }\n",
       "\n",
       "    .dataframe tbody tr th {\n",
       "        vertical-align: top;\n",
       "    }\n",
       "\n",
       "    .dataframe thead th {\n",
       "        text-align: right;\n",
       "    }\n",
       "</style>\n",
       "<table border=\"1\" class=\"dataframe\">\n",
       "  <thead>\n",
       "    <tr style=\"text-align: right;\">\n",
       "      <th></th>\n",
       "      <th>id</th>\n",
       "      <th>price</th>\n",
       "      <th>bedrooms</th>\n",
       "      <th>bathrooms</th>\n",
       "      <th>sqft_living</th>\n",
       "      <th>sqft_lot</th>\n",
       "      <th>floors</th>\n",
       "      <th>sqft_above</th>\n",
       "      <th>yr_built</th>\n",
       "      <th>zipcode</th>\n",
       "      <th>lat</th>\n",
       "      <th>long</th>\n",
       "      <th>sqft_living15</th>\n",
       "      <th>sqft_lot15</th>\n",
       "    </tr>\n",
       "  </thead>\n",
       "  <tbody>\n",
       "    <tr>\n",
       "      <th>count</th>\n",
       "      <td>8.012000e+03</td>\n",
       "      <td>8.012000e+03</td>\n",
       "      <td>8012.000000</td>\n",
       "      <td>8012.000000</td>\n",
       "      <td>8012.000000</td>\n",
       "      <td>8.012000e+03</td>\n",
       "      <td>8012.000000</td>\n",
       "      <td>8012.000000</td>\n",
       "      <td>8012.000000</td>\n",
       "      <td>8012.000000</td>\n",
       "      <td>8012.000000</td>\n",
       "      <td>8012.000000</td>\n",
       "      <td>8012.000000</td>\n",
       "      <td>8011.000000</td>\n",
       "    </tr>\n",
       "    <tr>\n",
       "      <th>mean</th>\n",
       "      <td>4.594829e+09</td>\n",
       "      <td>5.363995e+05</td>\n",
       "      <td>3.372691</td>\n",
       "      <td>2.067336</td>\n",
       "      <td>2059.149401</td>\n",
       "      <td>1.599643e+04</td>\n",
       "      <td>1.432351</td>\n",
       "      <td>1754.578507</td>\n",
       "      <td>1967.361083</td>\n",
       "      <td>98077.809910</td>\n",
       "      <td>47.560657</td>\n",
       "      <td>-122.213566</td>\n",
       "      <td>1978.383924</td>\n",
       "      <td>13054.512296</td>\n",
       "    </tr>\n",
       "    <tr>\n",
       "      <th>std</th>\n",
       "      <td>2.867207e+09</td>\n",
       "      <td>3.790291e+05</td>\n",
       "      <td>0.894870</td>\n",
       "      <td>0.763198</td>\n",
       "      <td>913.449615</td>\n",
       "      <td>4.626212e+04</td>\n",
       "      <td>0.510205</td>\n",
       "      <td>812.249528</td>\n",
       "      <td>28.012855</td>\n",
       "      <td>53.895746</td>\n",
       "      <td>0.139813</td>\n",
       "      <td>0.139900</td>\n",
       "      <td>675.621499</td>\n",
       "      <td>25234.492073</td>\n",
       "    </tr>\n",
       "    <tr>\n",
       "      <th>min</th>\n",
       "      <td>1.000102e+06</td>\n",
       "      <td>8.000000e+04</td>\n",
       "      <td>1.000000</td>\n",
       "      <td>0.500000</td>\n",
       "      <td>380.000000</td>\n",
       "      <td>5.720000e+02</td>\n",
       "      <td>1.000000</td>\n",
       "      <td>380.000000</td>\n",
       "      <td>1900.000000</td>\n",
       "      <td>98001.000000</td>\n",
       "      <td>47.155900</td>\n",
       "      <td>-122.514000</td>\n",
       "      <td>181.000000</td>\n",
       "      <td>660.000000</td>\n",
       "    </tr>\n",
       "    <tr>\n",
       "      <th>25%</th>\n",
       "      <td>2.131576e+09</td>\n",
       "      <td>3.150000e+05</td>\n",
       "      <td>3.000000</td>\n",
       "      <td>1.500000</td>\n",
       "      <td>1410.000000</td>\n",
       "      <td>5.424500e+03</td>\n",
       "      <td>1.000000</td>\n",
       "      <td>1180.000000</td>\n",
       "      <td>1950.000000</td>\n",
       "      <td>98033.000000</td>\n",
       "      <td>47.463250</td>\n",
       "      <td>-122.325000</td>\n",
       "      <td>1490.000000</td>\n",
       "      <td>5411.500000</td>\n",
       "    </tr>\n",
       "    <tr>\n",
       "      <th>50%</th>\n",
       "      <td>3.913000e+09</td>\n",
       "      <td>4.492500e+05</td>\n",
       "      <td>3.000000</td>\n",
       "      <td>2.000000</td>\n",
       "      <td>1900.000000</td>\n",
       "      <td>7.875000e+03</td>\n",
       "      <td>1.000000</td>\n",
       "      <td>1530.000000</td>\n",
       "      <td>1969.000000</td>\n",
       "      <td>98065.000000</td>\n",
       "      <td>47.574700</td>\n",
       "      <td>-122.229000</td>\n",
       "      <td>1830.000000</td>\n",
       "      <td>7845.000000</td>\n",
       "    </tr>\n",
       "    <tr>\n",
       "      <th>75%</th>\n",
       "      <td>7.300850e+09</td>\n",
       "      <td>6.430000e+05</td>\n",
       "      <td>4.000000</td>\n",
       "      <td>2.500000</td>\n",
       "      <td>2500.000000</td>\n",
       "      <td>1.110800e+04</td>\n",
       "      <td>2.000000</td>\n",
       "      <td>2140.000000</td>\n",
       "      <td>1990.000000</td>\n",
       "      <td>98118.000000</td>\n",
       "      <td>47.679700</td>\n",
       "      <td>-122.126000</td>\n",
       "      <td>2350.000000</td>\n",
       "      <td>10352.000000</td>\n",
       "    </tr>\n",
       "    <tr>\n",
       "      <th>max</th>\n",
       "      <td>9.842301e+09</td>\n",
       "      <td>7.700000e+06</td>\n",
       "      <td>9.000000</td>\n",
       "      <td>8.000000</td>\n",
       "      <td>12050.000000</td>\n",
       "      <td>1.651359e+06</td>\n",
       "      <td>3.000000</td>\n",
       "      <td>8570.000000</td>\n",
       "      <td>2015.000000</td>\n",
       "      <td>98199.000000</td>\n",
       "      <td>47.777600</td>\n",
       "      <td>-121.315000</td>\n",
       "      <td>5790.000000</td>\n",
       "      <td>434728.000000</td>\n",
       "    </tr>\n",
       "  </tbody>\n",
       "</table>\n",
       "</div>"
      ],
      "text/plain": [
       "                 id         price     bedrooms    bathrooms   sqft_living  \\\n",
       "count  8.012000e+03  8.012000e+03  8012.000000  8012.000000   8012.000000   \n",
       "mean   4.594829e+09  5.363995e+05     3.372691     2.067336   2059.149401   \n",
       "std    2.867207e+09  3.790291e+05     0.894870     0.763198    913.449615   \n",
       "min    1.000102e+06  8.000000e+04     1.000000     0.500000    380.000000   \n",
       "25%    2.131576e+09  3.150000e+05     3.000000     1.500000   1410.000000   \n",
       "50%    3.913000e+09  4.492500e+05     3.000000     2.000000   1900.000000   \n",
       "75%    7.300850e+09  6.430000e+05     4.000000     2.500000   2500.000000   \n",
       "max    9.842301e+09  7.700000e+06     9.000000     8.000000  12050.000000   \n",
       "\n",
       "           sqft_lot       floors   sqft_above     yr_built       zipcode  \\\n",
       "count  8.012000e+03  8012.000000  8012.000000  8012.000000   8012.000000   \n",
       "mean   1.599643e+04     1.432351  1754.578507  1967.361083  98077.809910   \n",
       "std    4.626212e+04     0.510205   812.249528    28.012855     53.895746   \n",
       "min    5.720000e+02     1.000000   380.000000  1900.000000  98001.000000   \n",
       "25%    5.424500e+03     1.000000  1180.000000  1950.000000  98033.000000   \n",
       "50%    7.875000e+03     1.000000  1530.000000  1969.000000  98065.000000   \n",
       "75%    1.110800e+04     2.000000  2140.000000  1990.000000  98118.000000   \n",
       "max    1.651359e+06     3.000000  8570.000000  2015.000000  98199.000000   \n",
       "\n",
       "               lat         long  sqft_living15     sqft_lot15  \n",
       "count  8012.000000  8012.000000    8012.000000    8011.000000  \n",
       "mean     47.560657  -122.213566    1978.383924   13054.512296  \n",
       "std       0.139813     0.139900     675.621499   25234.492073  \n",
       "min      47.155900  -122.514000     181.000000     660.000000  \n",
       "25%      47.463250  -122.325000    1490.000000    5411.500000  \n",
       "50%      47.574700  -122.229000    1830.000000    7845.000000  \n",
       "75%      47.679700  -122.126000    2350.000000   10352.000000  \n",
       "max      47.777600  -121.315000    5790.000000  434728.000000  "
      ]
     },
     "execution_count": 16,
     "metadata": {},
     "output_type": "execute_result"
    }
   ],
   "source": [
    "# data descripyion\n",
    "data.describe()"
   ]
  },
  {
   "cell_type": "code",
   "execution_count": 17,
   "metadata": {
    "id": "2Zl0CkgcRy9P"
   },
   "outputs": [
    {
     "data": {
      "text/html": [
       "<div>\n",
       "<style scoped>\n",
       "    .dataframe tbody tr th:only-of-type {\n",
       "        vertical-align: middle;\n",
       "    }\n",
       "\n",
       "    .dataframe tbody tr th {\n",
       "        vertical-align: top;\n",
       "    }\n",
       "\n",
       "    .dataframe thead th {\n",
       "        text-align: right;\n",
       "    }\n",
       "</style>\n",
       "<table border=\"1\" class=\"dataframe\">\n",
       "  <thead>\n",
       "    <tr style=\"text-align: right;\">\n",
       "      <th></th>\n",
       "      <th>id</th>\n",
       "      <th>price</th>\n",
       "      <th>bedrooms</th>\n",
       "      <th>bathrooms</th>\n",
       "      <th>sqft_living</th>\n",
       "      <th>sqft_lot</th>\n",
       "      <th>floors</th>\n",
       "      <th>sqft_above</th>\n",
       "      <th>yr_built</th>\n",
       "      <th>zipcode</th>\n",
       "      <th>lat</th>\n",
       "      <th>long</th>\n",
       "      <th>sqft_living15</th>\n",
       "      <th>sqft_lot15</th>\n",
       "    </tr>\n",
       "  </thead>\n",
       "  <tbody>\n",
       "    <tr>\n",
       "      <th>id</th>\n",
       "      <td>1.000000</td>\n",
       "      <td>0.007768</td>\n",
       "      <td>0.007194</td>\n",
       "      <td>0.004625</td>\n",
       "      <td>-0.003571</td>\n",
       "      <td>-0.127702</td>\n",
       "      <td>0.005979</td>\n",
       "      <td>-0.011557</td>\n",
       "      <td>0.001370</td>\n",
       "      <td>0.004069</td>\n",
       "      <td>0.004203</td>\n",
       "      <td>-0.006755</td>\n",
       "      <td>-0.006466</td>\n",
       "      <td>-0.145675</td>\n",
       "    </tr>\n",
       "    <tr>\n",
       "      <th>price</th>\n",
       "      <td>0.007768</td>\n",
       "      <td>1.000000</td>\n",
       "      <td>0.305522</td>\n",
       "      <td>0.528373</td>\n",
       "      <td>0.703386</td>\n",
       "      <td>0.090655</td>\n",
       "      <td>0.282877</td>\n",
       "      <td>0.610740</td>\n",
       "      <td>0.031535</td>\n",
       "      <td>-0.049885</td>\n",
       "      <td>0.299549</td>\n",
       "      <td>0.010732</td>\n",
       "      <td>0.585687</td>\n",
       "      <td>0.090146</td>\n",
       "    </tr>\n",
       "    <tr>\n",
       "      <th>bedrooms</th>\n",
       "      <td>0.007194</td>\n",
       "      <td>0.305522</td>\n",
       "      <td>1.000000</td>\n",
       "      <td>0.533690</td>\n",
       "      <td>0.576756</td>\n",
       "      <td>0.026468</td>\n",
       "      <td>0.228978</td>\n",
       "      <td>0.472310</td>\n",
       "      <td>0.161553</td>\n",
       "      <td>-0.145595</td>\n",
       "      <td>0.005050</td>\n",
       "      <td>0.101347</td>\n",
       "      <td>0.387671</td>\n",
       "      <td>0.019948</td>\n",
       "    </tr>\n",
       "    <tr>\n",
       "      <th>bathrooms</th>\n",
       "      <td>0.004625</td>\n",
       "      <td>0.528373</td>\n",
       "      <td>0.533690</td>\n",
       "      <td>1.000000</td>\n",
       "      <td>0.769391</td>\n",
       "      <td>0.087506</td>\n",
       "      <td>0.496492</td>\n",
       "      <td>0.690746</td>\n",
       "      <td>0.476852</td>\n",
       "      <td>-0.196690</td>\n",
       "      <td>0.035810</td>\n",
       "      <td>0.211071</td>\n",
       "      <td>0.590075</td>\n",
       "      <td>0.101730</td>\n",
       "    </tr>\n",
       "    <tr>\n",
       "      <th>sqft_living</th>\n",
       "      <td>-0.003571</td>\n",
       "      <td>0.703386</td>\n",
       "      <td>0.576756</td>\n",
       "      <td>0.769391</td>\n",
       "      <td>1.000000</td>\n",
       "      <td>0.158074</td>\n",
       "      <td>0.393032</td>\n",
       "      <td>0.869191</td>\n",
       "      <td>0.319117</td>\n",
       "      <td>-0.182158</td>\n",
       "      <td>0.070088</td>\n",
       "      <td>0.208902</td>\n",
       "      <td>0.751592</td>\n",
       "      <td>0.191441</td>\n",
       "    </tr>\n",
       "    <tr>\n",
       "      <th>sqft_lot</th>\n",
       "      <td>-0.127702</td>\n",
       "      <td>0.090655</td>\n",
       "      <td>0.026468</td>\n",
       "      <td>0.087506</td>\n",
       "      <td>0.158074</td>\n",
       "      <td>1.000000</td>\n",
       "      <td>0.019294</td>\n",
       "      <td>0.177513</td>\n",
       "      <td>0.080534</td>\n",
       "      <td>-0.120274</td>\n",
       "      <td>-0.064033</td>\n",
       "      <td>0.213755</td>\n",
       "      <td>0.151516</td>\n",
       "      <td>0.663356</td>\n",
       "    </tr>\n",
       "    <tr>\n",
       "      <th>floors</th>\n",
       "      <td>0.005979</td>\n",
       "      <td>0.282877</td>\n",
       "      <td>0.228978</td>\n",
       "      <td>0.496492</td>\n",
       "      <td>0.393032</td>\n",
       "      <td>0.019294</td>\n",
       "      <td>1.000000</td>\n",
       "      <td>0.575360</td>\n",
       "      <td>0.399288</td>\n",
       "      <td>-0.078941</td>\n",
       "      <td>0.044672</td>\n",
       "      <td>0.152340</td>\n",
       "      <td>0.327006</td>\n",
       "      <td>0.019143</td>\n",
       "    </tr>\n",
       "    <tr>\n",
       "      <th>sqft_above</th>\n",
       "      <td>-0.011557</td>\n",
       "      <td>0.610740</td>\n",
       "      <td>0.472310</td>\n",
       "      <td>0.690746</td>\n",
       "      <td>0.869191</td>\n",
       "      <td>0.177513</td>\n",
       "      <td>0.575360</td>\n",
       "      <td>1.000000</td>\n",
       "      <td>0.423154</td>\n",
       "      <td>-0.248654</td>\n",
       "      <td>0.014013</td>\n",
       "      <td>0.322291</td>\n",
       "      <td>0.732677</td>\n",
       "      <td>0.214697</td>\n",
       "    </tr>\n",
       "    <tr>\n",
       "      <th>yr_built</th>\n",
       "      <td>0.001370</td>\n",
       "      <td>0.031535</td>\n",
       "      <td>0.161553</td>\n",
       "      <td>0.476852</td>\n",
       "      <td>0.319117</td>\n",
       "      <td>0.080534</td>\n",
       "      <td>0.399288</td>\n",
       "      <td>0.423154</td>\n",
       "      <td>1.000000</td>\n",
       "      <td>-0.376838</td>\n",
       "      <td>-0.164090</td>\n",
       "      <td>0.452672</td>\n",
       "      <td>0.346735</td>\n",
       "      <td>0.124504</td>\n",
       "    </tr>\n",
       "    <tr>\n",
       "      <th>zipcode</th>\n",
       "      <td>0.004069</td>\n",
       "      <td>-0.049885</td>\n",
       "      <td>-0.145595</td>\n",
       "      <td>-0.196690</td>\n",
       "      <td>-0.182158</td>\n",
       "      <td>-0.120274</td>\n",
       "      <td>-0.078941</td>\n",
       "      <td>-0.248654</td>\n",
       "      <td>-0.376838</td>\n",
       "      <td>1.000000</td>\n",
       "      <td>0.255702</td>\n",
       "      <td>-0.561260</td>\n",
       "      <td>-0.261169</td>\n",
       "      <td>-0.158669</td>\n",
       "    </tr>\n",
       "    <tr>\n",
       "      <th>lat</th>\n",
       "      <td>0.004203</td>\n",
       "      <td>0.299549</td>\n",
       "      <td>0.005050</td>\n",
       "      <td>0.035810</td>\n",
       "      <td>0.070088</td>\n",
       "      <td>-0.064033</td>\n",
       "      <td>0.044672</td>\n",
       "      <td>0.014013</td>\n",
       "      <td>-0.164090</td>\n",
       "      <td>0.255702</td>\n",
       "      <td>1.000000</td>\n",
       "      <td>-0.129900</td>\n",
       "      <td>0.069508</td>\n",
       "      <td>-0.060558</td>\n",
       "    </tr>\n",
       "    <tr>\n",
       "      <th>long</th>\n",
       "      <td>-0.006755</td>\n",
       "      <td>0.010732</td>\n",
       "      <td>0.101347</td>\n",
       "      <td>0.211071</td>\n",
       "      <td>0.208902</td>\n",
       "      <td>0.213755</td>\n",
       "      <td>0.152340</td>\n",
       "      <td>0.322291</td>\n",
       "      <td>0.452672</td>\n",
       "      <td>-0.561260</td>\n",
       "      <td>-0.129900</td>\n",
       "      <td>1.000000</td>\n",
       "      <td>0.307506</td>\n",
       "      <td>0.277805</td>\n",
       "    </tr>\n",
       "    <tr>\n",
       "      <th>sqft_living15</th>\n",
       "      <td>-0.006466</td>\n",
       "      <td>0.585687</td>\n",
       "      <td>0.387671</td>\n",
       "      <td>0.590075</td>\n",
       "      <td>0.751592</td>\n",
       "      <td>0.151516</td>\n",
       "      <td>0.327006</td>\n",
       "      <td>0.732677</td>\n",
       "      <td>0.346735</td>\n",
       "      <td>-0.261169</td>\n",
       "      <td>0.069508</td>\n",
       "      <td>0.307506</td>\n",
       "      <td>1.000000</td>\n",
       "      <td>0.217699</td>\n",
       "    </tr>\n",
       "    <tr>\n",
       "      <th>sqft_lot15</th>\n",
       "      <td>-0.145675</td>\n",
       "      <td>0.090146</td>\n",
       "      <td>0.019948</td>\n",
       "      <td>0.101730</td>\n",
       "      <td>0.191441</td>\n",
       "      <td>0.663356</td>\n",
       "      <td>0.019143</td>\n",
       "      <td>0.214697</td>\n",
       "      <td>0.124504</td>\n",
       "      <td>-0.158669</td>\n",
       "      <td>-0.060558</td>\n",
       "      <td>0.277805</td>\n",
       "      <td>0.217699</td>\n",
       "      <td>1.000000</td>\n",
       "    </tr>\n",
       "  </tbody>\n",
       "</table>\n",
       "</div>"
      ],
      "text/plain": [
       "                     id     price  bedrooms  bathrooms  sqft_living  sqft_lot  \\\n",
       "id             1.000000  0.007768  0.007194   0.004625    -0.003571 -0.127702   \n",
       "price          0.007768  1.000000  0.305522   0.528373     0.703386  0.090655   \n",
       "bedrooms       0.007194  0.305522  1.000000   0.533690     0.576756  0.026468   \n",
       "bathrooms      0.004625  0.528373  0.533690   1.000000     0.769391  0.087506   \n",
       "sqft_living   -0.003571  0.703386  0.576756   0.769391     1.000000  0.158074   \n",
       "sqft_lot      -0.127702  0.090655  0.026468   0.087506     0.158074  1.000000   \n",
       "floors         0.005979  0.282877  0.228978   0.496492     0.393032  0.019294   \n",
       "sqft_above    -0.011557  0.610740  0.472310   0.690746     0.869191  0.177513   \n",
       "yr_built       0.001370  0.031535  0.161553   0.476852     0.319117  0.080534   \n",
       "zipcode        0.004069 -0.049885 -0.145595  -0.196690    -0.182158 -0.120274   \n",
       "lat            0.004203  0.299549  0.005050   0.035810     0.070088 -0.064033   \n",
       "long          -0.006755  0.010732  0.101347   0.211071     0.208902  0.213755   \n",
       "sqft_living15 -0.006466  0.585687  0.387671   0.590075     0.751592  0.151516   \n",
       "sqft_lot15    -0.145675  0.090146  0.019948   0.101730     0.191441  0.663356   \n",
       "\n",
       "                 floors  sqft_above  yr_built   zipcode       lat      long  \\\n",
       "id             0.005979   -0.011557  0.001370  0.004069  0.004203 -0.006755   \n",
       "price          0.282877    0.610740  0.031535 -0.049885  0.299549  0.010732   \n",
       "bedrooms       0.228978    0.472310  0.161553 -0.145595  0.005050  0.101347   \n",
       "bathrooms      0.496492    0.690746  0.476852 -0.196690  0.035810  0.211071   \n",
       "sqft_living    0.393032    0.869191  0.319117 -0.182158  0.070088  0.208902   \n",
       "sqft_lot       0.019294    0.177513  0.080534 -0.120274 -0.064033  0.213755   \n",
       "floors         1.000000    0.575360  0.399288 -0.078941  0.044672  0.152340   \n",
       "sqft_above     0.575360    1.000000  0.423154 -0.248654  0.014013  0.322291   \n",
       "yr_built       0.399288    0.423154  1.000000 -0.376838 -0.164090  0.452672   \n",
       "zipcode       -0.078941   -0.248654 -0.376838  1.000000  0.255702 -0.561260   \n",
       "lat            0.044672    0.014013 -0.164090  0.255702  1.000000 -0.129900   \n",
       "long           0.152340    0.322291  0.452672 -0.561260 -0.129900  1.000000   \n",
       "sqft_living15  0.327006    0.732677  0.346735 -0.261169  0.069508  0.307506   \n",
       "sqft_lot15     0.019143    0.214697  0.124504 -0.158669 -0.060558  0.277805   \n",
       "\n",
       "               sqft_living15  sqft_lot15  \n",
       "id                 -0.006466   -0.145675  \n",
       "price               0.585687    0.090146  \n",
       "bedrooms            0.387671    0.019948  \n",
       "bathrooms           0.590075    0.101730  \n",
       "sqft_living         0.751592    0.191441  \n",
       "sqft_lot            0.151516    0.663356  \n",
       "floors              0.327006    0.019143  \n",
       "sqft_above          0.732677    0.214697  \n",
       "yr_built            0.346735    0.124504  \n",
       "zipcode            -0.261169   -0.158669  \n",
       "lat                 0.069508   -0.060558  \n",
       "long                0.307506    0.277805  \n",
       "sqft_living15       1.000000    0.217699  \n",
       "sqft_lot15          0.217699    1.000000  "
      ]
     },
     "execution_count": 17,
     "metadata": {},
     "output_type": "execute_result"
    }
   ],
   "source": [
    "# Correlation matrix to see our variable correlations\n",
    "correlation_matrix = data.corr()\n",
    "correlation_matrix\n"
   ]
  },
  {
   "cell_type": "code",
   "execution_count": 18,
   "metadata": {
    "id": "quAxA9nAR2hO"
   },
   "outputs": [
    {
     "data": {
      "image/png": "[encoded data removed]",
      "text/plain": [
       "<Figure size 720x432 with 2 Axes>"
      ]
     },
     "metadata": {
      "needs_background": "light"
     },
     "output_type": "display_data"
    }
   ],
   "source": [
    "import seaborn as sns\n",
    "import matplotlib.pyplot as plt\n",
    "%matplotlib inline\n",
    "plt.subplots(figsize=(10,6))\n",
    "sns.set(font_scale=1.2)\n",
    "sns.heatmap(correlation_matrix, annot=True, fmt=\"0.2f\", cmap=\"coolwarm\")\n",
    "plt.show()"
   ]
  },
  {
   "cell_type": "code",
   "execution_count": 19,
   "metadata": {
    "id": "3fZDjw9oSDNn"
   },
   "outputs": [
    {
     "ename": "IndentationError",
     "evalue": "expected an indented block (<ipython-input-19-6a178ce34736>, line 3)",
     "output_type": "error",
     "traceback": [
      "\u001b[1;36m  File \u001b[1;32m\"<ipython-input-19-6a178ce34736>\"\u001b[1;36m, line \u001b[1;32m3\u001b[0m\n\u001b[1;33m    if high_correlation_pairs.loc[col1, col2]:\u001b[0m\n\u001b[1;37m    ^\u001b[0m\n\u001b[1;31mIndentationError\u001b[0m\u001b[1;31m:\u001b[0m expected an indented block\n"
     ]
    }
   ],
   "source": [
    "for col1 in correlation_matrix.columns:\n",
    " for col2 in correlation_matrix.columns:\n",
    " if high_correlation_pairs.loc[col1, col2]:\n",
    " correlation_coefficient = correlation_matrix.loc[col1, col2]\n",
    " print(f\"{col1} and {col2} have a correlation coefficient of {c"
   ]
  },
  {
   "cell_type": "code",
   "execution_count": 20,
   "metadata": {
    "id": "d2j83NfDSHda"
   },
   "outputs": [
    {
     "ename": "SyntaxError",
     "evalue": "invalid syntax (<ipython-input-20-5faa948080f8>, line 2)",
     "output_type": "error",
     "traceback": [
      "\u001b[1;36m  File \u001b[1;32m\"<ipython-input-20-5faa948080f8>\"\u001b[1;36m, line \u001b[1;32m2\u001b[0m\n\u001b[1;33m    2 if col1>0.70:\u001b[0m\n\u001b[1;37m                  ^\u001b[0m\n\u001b[1;31mSyntaxError\u001b[0m\u001b[1;31m:\u001b[0m invalid syntax\n"
     ]
    }
   ],
   "source": [
    "for col1 in correlation_matrix.columns:\n",
    " 2 if col1>0.70:\n",
    " 3 print(col1)\n"
   ]
  },
  {
   "cell_type": "code",
   "execution_count": 21,
   "metadata": {
    "id": "2udFW_rmST2g"
   },
   "outputs": [
    {
     "data": {
      "text/plain": [
       "0       1.0\n",
       "1       2.0\n",
       "2       1.0\n",
       "3       1.0\n",
       "4       1.0\n",
       "       ... \n",
       "8035    2.0\n",
       "8036    1.0\n",
       "8037    1.0\n",
       "8038    1.0\n",
       "8039    1.0\n",
       "Name: floors, Length: 8012, dtype: float64"
      ]
     },
     "execution_count": 21,
     "metadata": {},
     "output_type": "execute_result"
    }
   ],
   "source": [
    "# checking the columns for our variables\n",
    "data['floors']"
   ]
  },
  {
   "cell_type": "code",
   "execution_count": null,
   "metadata": {
    "id": "mlgZI5H8SXSz"
   },
   "outputs": [],
   "source": [
    "data['bedrooms']\n"
   ]
  },
  {
   "cell_type": "code",
   "execution_count": null,
   "metadata": {
    "id": "3ds1zH81SXoG"
   },
   "outputs": [],
   "source": [
    "data['view']"
   ]
  },
  {
   "cell_type": "code",
   "execution_count": null,
   "metadata": {
    "id": "eKlxu2J0SfS4"
   },
   "outputs": [],
   "source": [
    "import seaborn as sns\n",
    "plt.figure(\"Test Samples\")\n",
    "sns.displot(data['floors'],bins=5, kde=True);\n",
    "plt.legend()\n",
    "plt.show()\n"
   ]
  },
  {
   "cell_type": "code",
   "execution_count": null,
   "metadata": {
    "id": "fLTcZwtFSoMF"
   },
   "outputs": [],
   "source": [
    "floors=data['floors']\n",
    "floors.describe()"
   ]
  },
  {
   "cell_type": "code",
   "execution_count": null,
   "metadata": {
    "id": "L-DmBu3DSrqf"
   },
   "outputs": [],
   "source": [
    "#mu = 1.494096\n",
    "#std = 0.539683\n",
    "from scipy.stats import norm\n",
    "import matplotlib.pyplot as plt\n",
    "mu, std = norm.fit(data['floors'])\n",
    "# Plot the PDF of the fitted normal distribution\n",
    "xmin, xmax = plt.xlim()\n",
    "#x = np.linspace(xmin, xmax, 100)\n",
    "p = norm.pdf( mu, std)\n",
    "plt.plot(x, p"
   ]
  },
  {
   "cell_type": "code",
   "execution_count": null,
   "metadata": {
    "id": "5hGFxp5FSzos"
   },
   "outputs": [],
   "source": [
    "sns.displot(data['bedrooms'],bins='auto', kde=True);"
   ]
  }
 ],
 "metadata": {
  "colab": {
   "include_colab_link": true,
   "name": "Welcome To Colaboratory",
   "provenance": []
  },
  "kernelspec": {
   "display_name": "Python 3",
   "language": "python",
   "name": "python3"
  },
  "language_info": {
   "codemirror_mode": {
    "name": "ipython",
    "version": 3
   },
   "file_extension": ".py",
   "mimetype": "text/x-python",
   "name": "python",
   "nbconvert_exporter": "python",
   "pygments_lexer": "ipython3",
   "version": "3.8.5"
  }
 },
 "nbformat": 4,
 "nbformat_minor": 1
}
